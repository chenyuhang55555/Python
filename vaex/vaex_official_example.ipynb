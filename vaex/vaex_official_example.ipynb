{
 "cells": [
  {
   "cell_type": "markdown",
   "metadata": {},
   "source": [
    "## example"
   ]
  },
  {
   "cell_type": "markdown",
   "metadata": {},
   "source": [
    "https://github.com/vaexio/vaex"
   ]
  },
  {
   "cell_type": "code",
   "execution_count": 1,
   "metadata": {
    "scrolled": true
   },
   "outputs": [],
   "source": [
    "import vaex\n",
    "ds = vaex.example()  # open the example dataset provided with vaex"
   ]
  },
  {
   "cell_type": "code",
   "execution_count": 2,
   "metadata": {},
   "outputs": [
    {
     "data": {
      "text/html": [
       "<table>\n",
       "<thead>\n",
       "<tr><th>#                                  </th><th>E              </th><th>FeH                </th><th>L                 </th><th>Lz                 </th><th>random_index  </th><th>vx         </th><th>vy         </th><th>vz         </th><th>x           </th><th>y           </th><th>z           </th></tr>\n",
       "</thead>\n",
       "<tbody>\n",
       "<tr><td><i style='opacity: 0.6'>0</i>      </td><td>-121238.171875 </td><td>-2.309227609164518 </td><td>831.0799560546875 </td><td>-336.426513671875  </td><td>1511648       </td><td>53.276722  </td><td>288.386047 </td><td>-95.2649078</td><td>-0.777470767</td><td>2.10626292  </td><td>1.93743467  </td></tr>\n",
       "<tr><td><i style='opacity: 0.6'>1</i>      </td><td>-100819.9140625</td><td>-1.788735491591229 </td><td>1435.1839599609375</td><td>-828.7567749023438 </td><td>2728665       </td><td>252.810791 </td><td>-69.9498444</td><td>-56.3121033</td><td>3.77427316  </td><td>2.23387194  </td><td>3.76209331  </td></tr>\n",
       "<tr><td><i style='opacity: 0.6'>2</i>      </td><td>-100559.9609375</td><td>-0.7618109022478798</td><td>1039.2989501953125</td><td>920.802490234375   </td><td>1202632       </td><td>96.276474  </td><td>226.440201 </td><td>-34.7527161</td><td>1.3757627   </td><td>-6.3283844  </td><td>2.63250017  </td></tr>\n",
       "<tr><td><i style='opacity: 0.6'>3</i>      </td><td>-70174.8515625 </td><td>-1.5208778422936413</td><td>2441.724853515625 </td><td>1183.5899658203125 </td><td>1020502       </td><td>204.968842 </td><td>-205.679016</td><td>-58.9777031</td><td>-7.06737804 </td><td>1.31737781  </td><td>-6.10543537 </td></tr>\n",
       "<tr><td><i style='opacity: 0.6'>4</i>      </td><td>-144138.75     </td><td>-2.655341358427361 </td><td>374.8164367675781 </td><td>-314.5353088378906 </td><td>3154816       </td><td>-311.742371</td><td>-238.41217 </td><td>186.824127 </td><td>0.243441463 </td><td>-0.822781682</td><td>-0.206593871</td></tr>\n",
       "<tr><td>...                                </td><td>...            </td><td>...                </td><td>...               </td><td>...                </td><td>...           </td><td>...        </td><td>...        </td><td>...        </td><td>...         </td><td>...         </td><td>...         </td></tr>\n",
       "<tr><td><i style='opacity: 0.6'>329,995</i></td><td>-119687.3203125</td><td>-1.6499842518381402</td><td>746.8833618164062 </td><td>-508.96484375      </td><td>1919483       </td><td>107.432999 </td><td>-2.13771296</td><td>17.5130272 </td><td>3.76883793  </td><td>4.66251659  </td><td>-4.42904139 </td></tr>\n",
       "<tr><td><i style='opacity: 0.6'>329,996</i></td><td>-68933.8046875 </td><td>-1.4336036247720836</td><td>2395.633056640625 </td><td>1275.490234375     </td><td>1064141       </td><td>32.0       </td><td>108.089264 </td><td>179.060638 </td><td>9.17409325  </td><td>-8.87091351 </td><td>-8.61707687 </td></tr>\n",
       "<tr><td><i style='opacity: 0.6'>329,997</i></td><td>-112580.359375 </td><td>-1.9306227597361942</td><td>1182.436279296875 </td><td>115.58557891845703 </td><td>374845        </td><td>8.46711349 </td><td>-38.2765236</td><td>-127.541473</td><td>-1.14041007 </td><td>-8.4957695  </td><td>2.25749826  </td></tr>\n",
       "<tr><td><i style='opacity: 0.6'>329,998</i></td><td>-74862.90625   </td><td>-1.225019818838568 </td><td>1324.5926513671875</td><td>1057.017333984375  </td><td>425745        </td><td>110.221558 </td><td>-31.3925591</td><td>86.2726822 </td><td>-14.2985935 </td><td>-5.51750422 </td><td>-8.65472317 </td></tr>\n",
       "<tr><td><i style='opacity: 0.6'>329,999</i></td><td>-95361.765625  </td><td>-2.5689636894079477</td><td>351.0955505371094 </td><td>-309.81439208984375</td><td>289364        </td><td>-2.10541415</td><td>-27.6108856</td><td>3.80799961 </td><td>10.5450506  </td><td>-8.86106777 </td><td>-4.65835428 </td></tr>\n",
       "</tbody>\n",
       "</table>"
      ],
      "text/plain": [
       "#        E                FeH                  L                   Lz                   random_index    vx           vy           vz           x             y             z\n",
       "0        -121238.171875   -2.309227609164518   831.0799560546875   -336.426513671875    1511648         53.276722    288.386047   -95.2649078  -0.777470767  2.10626292    1.93743467\n",
       "1        -100819.9140625  -1.788735491591229   1435.1839599609375  -828.7567749023438   2728665         252.810791   -69.9498444  -56.3121033  3.77427316    2.23387194    3.76209331\n",
       "2        -100559.9609375  -0.7618109022478798  1039.2989501953125  920.802490234375     1202632         96.276474    226.440201   -34.7527161  1.3757627     -6.3283844    2.63250017\n",
       "3        -70174.8515625   -1.5208778422936413  2441.724853515625   1183.5899658203125   1020502         204.968842   -205.679016  -58.9777031  -7.06737804   1.31737781    -6.10543537\n",
       "4        -144138.75       -2.655341358427361   374.8164367675781   -314.5353088378906   3154816         -311.742371  -238.41217   186.824127   0.243441463   -0.822781682  -0.206593871\n",
       "...      ...              ...                  ...                 ...                  ...             ...          ...          ...          ...           ...           ...\n",
       "329,995  -119687.3203125  -1.6499842518381402  746.8833618164062   -508.96484375        1919483         107.432999   -2.13771296  17.5130272   3.76883793    4.66251659    -4.42904139\n",
       "329,996  -68933.8046875   -1.4336036247720836  2395.633056640625   1275.490234375       1064141         32.0         108.089264   179.060638   9.17409325    -8.87091351   -8.61707687\n",
       "329,997  -112580.359375   -1.9306227597361942  1182.436279296875   115.58557891845703   374845          8.46711349   -38.2765236  -127.541473  -1.14041007   -8.4957695    2.25749826\n",
       "329,998  -74862.90625     -1.225019818838568   1324.5926513671875  1057.017333984375    425745          110.221558   -31.3925591  86.2726822   -14.2985935   -5.51750422   -8.65472317\n",
       "329,999  -95361.765625    -2.5689636894079477  351.0955505371094   -309.81439208984375  289364          -2.10541415  -27.6108856  3.80799961   10.5450506    -8.86106777   -4.65835428"
      ]
     },
     "execution_count": 2,
     "metadata": {},
     "output_type": "execute_result"
    }
   ],
   "source": [
    "ds"
   ]
  },
  {
   "cell_type": "code",
   "execution_count": 3,
   "metadata": {},
   "outputs": [
    {
     "data": {
      "text/html": [
       "<table>\n",
       "<thead>\n",
       "<tr><th>#                            </th><th style=\"text-align: right;\">         x</th><th style=\"text-align: right;\">       y</th></tr>\n",
       "</thead>\n",
       "<tbody>\n",
       "<tr><td><i style='opacity: 0.6'>0</i></td><td style=\"text-align: right;\"> -0.777471</td><td style=\"text-align: right;\"> 2.10626</td></tr>\n",
       "<tr><td><i style='opacity: 0.6'>1</i></td><td style=\"text-align: right;\"> -7.06738 </td><td style=\"text-align: right;\"> 1.31738</td></tr>\n",
       "<tr><td><i style='opacity: 0.6'>2</i></td><td style=\"text-align: right;\"> -5.17174 </td><td style=\"text-align: right;\"> 7.82915</td></tr>\n",
       "<tr><td><i style='opacity: 0.6'>3</i></td><td style=\"text-align: right;\">-15.9539  </td><td style=\"text-align: right;\"> 5.77126</td></tr>\n",
       "<tr><td><i style='opacity: 0.6'>4</i></td><td style=\"text-align: right;\">-12.3995  </td><td style=\"text-align: right;\">13.9182 </td></tr>\n",
       "</tbody>\n",
       "</table>"
      ],
      "text/plain": [
       "  #           x         y\n",
       "  0   -0.777471   2.10626\n",
       "  1   -7.06738    1.31738\n",
       "  2   -5.17174    7.82915\n",
       "  3  -15.9539     5.77126\n",
       "  4  -12.3995    13.9182"
      ]
     },
     "execution_count": 3,
     "metadata": {},
     "output_type": "execute_result"
    }
   ],
   "source": [
    "ds_negative = ds[ds.x < 0]  # easily filter your dataset, without making a copy\n",
    "ds_negative[:5][['x', 'y']]  # take the first five rows, and only the 'x' and 'y' column (no memory copy!)"
   ]
  },
  {
   "cell_type": "code",
   "execution_count": 4,
   "metadata": {},
   "outputs": [
    {
     "data": {
      "text/plain": [
       "Expression = sqrt((((x ** 2) + (y ** 2)) + (z ** 2)))\n",
       "Length: 330,000 dtype: float64 (expression)\n",
       "-------------------------------------------\n",
       "     0   2.96555\n",
       "     1   5.77829\n",
       "     2    6.9908\n",
       "     3   9.43184\n",
       "     4  0.882561\n",
       "      ...       \n",
       "329995   7.45383\n",
       "329996   15.3984\n",
       "329997   8.86425\n",
       "329998    17.601\n",
       "329999   14.5402"
      ]
     },
     "execution_count": 4,
     "metadata": {},
     "output_type": "execute_result"
    }
   ],
   "source": [
    "import numpy as np\n",
    "# creates an expression (nothing is computed)\n",
    "r = np.sqrt(ds.x**2 + ds.y**2 + ds.z**2)\n",
    "r  # for convenience, we print out some values"
   ]
  },
  {
   "cell_type": "code",
   "execution_count": 5,
   "metadata": {},
   "outputs": [
    {
     "data": {
      "text/plain": [
       "(array(-0.06713149), array(9.40708234))"
      ]
     },
     "execution_count": 5,
     "metadata": {},
     "output_type": "execute_result"
    }
   ],
   "source": [
    "ds['r'] = r  # add a (virtual) column that will be computed on the fly\n",
    "ds.mean(ds.x), ds.mean(ds.r)  # calculate statistics on normal and virtual columns"
   ]
  },
  {
   "cell_type": "code",
   "execution_count": 6,
   "metadata": {},
   "outputs": [
    {
     "data": {
      "text/plain": [
       "array([15.01058183, 14.43693006, 13.72923338, 12.90294499, 11.86615103,\n",
       "       11.03563695, 10.12162553,  9.2969267 ,  8.58250973,  7.86602644,\n",
       "        7.19568442,  6.55738773,  6.01942499,  5.51462457,  5.15798991,\n",
       "        4.8274218 ,  4.7346551 ,  5.1343761 ,  5.46017944,  6.02199777,\n",
       "        6.54132124,  7.27025256,  7.99780777,  8.55188217,  9.30286584,\n",
       "        9.97067561, 10.81633293, 11.60615795, 12.33813552, 13.10488982,\n",
       "       13.86868565, 14.60577266])"
      ]
     },
     "execution_count": 6,
     "metadata": {},
     "output_type": "execute_result"
    }
   ],
   "source": [
    "ds.mean(ds.r, binby=ds.x, shape=32, limits=[-10, 10]) # create statistics on a regular grid (1d)"
   ]
  },
  {
   "cell_type": "code",
   "execution_count": 7,
   "metadata": {},
   "outputs": [
    {
     "data": {
      "text/plain": [
       "array([[22, 33, 37, ..., 58, 38, 45],\n",
       "       [37, 36, 47, ..., 52, 36, 53],\n",
       "       [34, 42, 47, ..., 59, 44, 56],\n",
       "       ...,\n",
       "       [73, 73, 84, ..., 41, 40, 37],\n",
       "       [53, 58, 63, ..., 34, 35, 28],\n",
       "       [51, 32, 46, ..., 47, 33, 36]])"
      ]
     },
     "execution_count": 7,
     "metadata": {},
     "output_type": "execute_result"
    }
   ],
   "source": [
    "ds.mean(ds.r, binby=[ds.x, ds.y], shape=32, limits=[-10, 10]) # or 2d\n",
    "ds.count(ds.r, binby=[ds.x, ds.y], shape=32, limits=[-10, 10]) # or 2d counts/histogram"
   ]
  },
  {
   "cell_type": "code",
   "execution_count": null,
   "metadata": {},
   "outputs": [],
   "source": []
  }
 ],
 "metadata": {
  "kernelspec": {
   "display_name": "Python 3",
   "language": "python",
   "name": "python3"
  },
  "language_info": {
   "codemirror_mode": {
    "name": "ipython",
    "version": 3
   },
   "file_extension": ".py",
   "mimetype": "text/x-python",
   "name": "python",
   "nbconvert_exporter": "python",
   "pygments_lexer": "ipython3",
   "version": "3.6.9"
  }
 },
 "nbformat": 4,
 "nbformat_minor": 2
}
