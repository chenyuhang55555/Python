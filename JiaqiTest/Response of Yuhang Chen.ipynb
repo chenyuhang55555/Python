{
 "cells": [
  {
   "cell_type": "markdown",
   "metadata": {},
   "source": [
    "# Jiaqi test\n",
    "Yuhang Chen\n",
    "\n",
    "2020/06/27"
   ]
  },
  {
   "cell_type": "markdown",
   "metadata": {},
   "source": [
    "## Prep"
   ]
  },
  {
   "cell_type": "markdown",
   "metadata": {},
   "source": [
    "Data:\n",
    "\n",
    "mdLog.csv contains snapshots of market data from a single security. Note that this means you are not provided with new information each time the market changes. Instead, you are given periodic and regular updates. The allocation mechanism of this market follows price-time priority, incoming orders must interact first with the opposing order with the best price, followed by the earliest order insertion time.\n",
    "\n",
    "updateCount: a consecutive counter.\n",
    "\n",
    "lastprice: the execution price of the most recent trade in the market from the perspective of the current update.\n",
    "\n",
    "volume: the cumulative volume traded in the security from the beginning of the dataset to the current update.\n",
    "\n",
    "bid/ask: the price at the best bid / best ask.\n",
    "\n",
    "bidsize/asksize: size at the bid/ask."
   ]
  },
  {
   "cell_type": "code",
   "execution_count": 1,
   "metadata": {},
   "outputs": [],
   "source": [
    "import numpy as np\n",
    "import pandas as pd"
   ]
  },
  {
   "cell_type": "code",
   "execution_count": 2,
   "metadata": {},
   "outputs": [],
   "source": [
    "raw_data=pd.read_csv(\"mdLog.csv\")"
   ]
  },
  {
   "cell_type": "code",
   "execution_count": 3,
   "metadata": {},
   "outputs": [
    {
     "data": {
      "text/html": [
       "<div>\n",
       "<style scoped>\n",
       "    .dataframe tbody tr th:only-of-type {\n",
       "        vertical-align: middle;\n",
       "    }\n",
       "\n",
       "    .dataframe tbody tr th {\n",
       "        vertical-align: top;\n",
       "    }\n",
       "\n",
       "    .dataframe thead th {\n",
       "        text-align: right;\n",
       "    }\n",
       "</style>\n",
       "<table border=\"1\" class=\"dataframe\">\n",
       "  <thead>\n",
       "    <tr style=\"text-align: right;\">\n",
       "      <th></th>\n",
       "      <th>updateCount</th>\n",
       "      <th>lastprice</th>\n",
       "      <th>volume</th>\n",
       "      <th>bidsize</th>\n",
       "      <th>bid</th>\n",
       "      <th>ask</th>\n",
       "      <th>asksize</th>\n",
       "    </tr>\n",
       "  </thead>\n",
       "  <tbody>\n",
       "    <tr>\n",
       "      <th>0</th>\n",
       "      <td>1</td>\n",
       "      <td>26.78</td>\n",
       "      <td>303</td>\n",
       "      <td>455</td>\n",
       "      <td>26.77</td>\n",
       "      <td>26.79</td>\n",
       "      <td>1</td>\n",
       "    </tr>\n",
       "    <tr>\n",
       "      <th>1</th>\n",
       "      <td>2</td>\n",
       "      <td>26.78</td>\n",
       "      <td>303</td>\n",
       "      <td>455</td>\n",
       "      <td>26.77</td>\n",
       "      <td>26.79</td>\n",
       "      <td>1</td>\n",
       "    </tr>\n",
       "    <tr>\n",
       "      <th>2</th>\n",
       "      <td>3</td>\n",
       "      <td>26.77</td>\n",
       "      <td>361</td>\n",
       "      <td>518</td>\n",
       "      <td>26.77</td>\n",
       "      <td>26.78</td>\n",
       "      <td>1</td>\n",
       "    </tr>\n",
       "    <tr>\n",
       "      <th>3</th>\n",
       "      <td>4</td>\n",
       "      <td>26.79</td>\n",
       "      <td>374</td>\n",
       "      <td>42</td>\n",
       "      <td>26.78</td>\n",
       "      <td>26.79</td>\n",
       "      <td>44</td>\n",
       "    </tr>\n",
       "    <tr>\n",
       "      <th>4</th>\n",
       "      <td>5</td>\n",
       "      <td>26.79</td>\n",
       "      <td>413</td>\n",
       "      <td>163</td>\n",
       "      <td>26.77</td>\n",
       "      <td>26.80</td>\n",
       "      <td>2</td>\n",
       "    </tr>\n",
       "  </tbody>\n",
       "</table>\n",
       "</div>"
      ],
      "text/plain": [
       "   updateCount  lastprice  volume  bidsize    bid    ask  asksize\n",
       "0            1      26.78     303      455  26.77  26.79        1\n",
       "1            2      26.78     303      455  26.77  26.79        1\n",
       "2            3      26.77     361      518  26.77  26.78        1\n",
       "3            4      26.79     374       42  26.78  26.79       44\n",
       "4            5      26.79     413      163  26.77  26.80        2"
      ]
     },
     "execution_count": 3,
     "metadata": {},
     "output_type": "execute_result"
    }
   ],
   "source": [
    "raw_data.head()"
   ]
  },
  {
   "cell_type": "code",
   "execution_count": 4,
   "metadata": {},
   "outputs": [
    {
     "data": {
      "text/html": [
       "<div>\n",
       "<style scoped>\n",
       "    .dataframe tbody tr th:only-of-type {\n",
       "        vertical-align: middle;\n",
       "    }\n",
       "\n",
       "    .dataframe tbody tr th {\n",
       "        vertical-align: top;\n",
       "    }\n",
       "\n",
       "    .dataframe thead th {\n",
       "        text-align: right;\n",
       "    }\n",
       "</style>\n",
       "<table border=\"1\" class=\"dataframe\">\n",
       "  <thead>\n",
       "    <tr style=\"text-align: right;\">\n",
       "      <th></th>\n",
       "      <th>updateCount</th>\n",
       "      <th>lastprice</th>\n",
       "      <th>volume</th>\n",
       "      <th>bidsize</th>\n",
       "      <th>bid</th>\n",
       "      <th>ask</th>\n",
       "      <th>asksize</th>\n",
       "    </tr>\n",
       "  </thead>\n",
       "  <tbody>\n",
       "    <tr>\n",
       "      <th>count</th>\n",
       "      <td>50234.000000</td>\n",
       "      <td>50234.00000</td>\n",
       "      <td>50234.000000</td>\n",
       "      <td>50234.000000</td>\n",
       "      <td>50234.000000</td>\n",
       "      <td>50234.000000</td>\n",
       "      <td>50234.000000</td>\n",
       "    </tr>\n",
       "    <tr>\n",
       "      <th>mean</th>\n",
       "      <td>25117.500000</td>\n",
       "      <td>26.95321</td>\n",
       "      <td>297986.639965</td>\n",
       "      <td>882.310149</td>\n",
       "      <td>26.948151</td>\n",
       "      <td>26.958281</td>\n",
       "      <td>877.307003</td>\n",
       "    </tr>\n",
       "    <tr>\n",
       "      <th>std</th>\n",
       "      <td>14501.451048</td>\n",
       "      <td>0.12352</td>\n",
       "      <td>196488.715243</td>\n",
       "      <td>815.241558</td>\n",
       "      <td>0.123343</td>\n",
       "      <td>0.123334</td>\n",
       "      <td>667.893062</td>\n",
       "    </tr>\n",
       "    <tr>\n",
       "      <th>min</th>\n",
       "      <td>1.000000</td>\n",
       "      <td>26.70000</td>\n",
       "      <td>303.000000</td>\n",
       "      <td>1.000000</td>\n",
       "      <td>26.700000</td>\n",
       "      <td>26.710000</td>\n",
       "      <td>1.000000</td>\n",
       "    </tr>\n",
       "    <tr>\n",
       "      <th>25%</th>\n",
       "      <td>12559.250000</td>\n",
       "      <td>26.82000</td>\n",
       "      <td>80608.500000</td>\n",
       "      <td>332.000000</td>\n",
       "      <td>26.810000</td>\n",
       "      <td>26.820000</td>\n",
       "      <td>375.000000</td>\n",
       "    </tr>\n",
       "    <tr>\n",
       "      <th>50%</th>\n",
       "      <td>25117.500000</td>\n",
       "      <td>27.02000</td>\n",
       "      <td>363338.000000</td>\n",
       "      <td>674.000000</td>\n",
       "      <td>27.010000</td>\n",
       "      <td>27.020000</td>\n",
       "      <td>744.000000</td>\n",
       "    </tr>\n",
       "    <tr>\n",
       "      <th>75%</th>\n",
       "      <td>37675.750000</td>\n",
       "      <td>27.05000</td>\n",
       "      <td>473108.000000</td>\n",
       "      <td>1146.000000</td>\n",
       "      <td>27.050000</td>\n",
       "      <td>27.060000</td>\n",
       "      <td>1203.000000</td>\n",
       "    </tr>\n",
       "    <tr>\n",
       "      <th>max</th>\n",
       "      <td>50234.000000</td>\n",
       "      <td>27.14000</td>\n",
       "      <td>587305.000000</td>\n",
       "      <td>6802.000000</td>\n",
       "      <td>27.140000</td>\n",
       "      <td>27.150000</td>\n",
       "      <td>5183.000000</td>\n",
       "    </tr>\n",
       "  </tbody>\n",
       "</table>\n",
       "</div>"
      ],
      "text/plain": [
       "        updateCount    lastprice         volume       bidsize           bid  \\\n",
       "count  50234.000000  50234.00000   50234.000000  50234.000000  50234.000000   \n",
       "mean   25117.500000     26.95321  297986.639965    882.310149     26.948151   \n",
       "std    14501.451048      0.12352  196488.715243    815.241558      0.123343   \n",
       "min        1.000000     26.70000     303.000000      1.000000     26.700000   \n",
       "25%    12559.250000     26.82000   80608.500000    332.000000     26.810000   \n",
       "50%    25117.500000     27.02000  363338.000000    674.000000     27.010000   \n",
       "75%    37675.750000     27.05000  473108.000000   1146.000000     27.050000   \n",
       "max    50234.000000     27.14000  587305.000000   6802.000000     27.140000   \n",
       "\n",
       "                ask       asksize  \n",
       "count  50234.000000  50234.000000  \n",
       "mean      26.958281    877.307003  \n",
       "std        0.123334    667.893062  \n",
       "min       26.710000      1.000000  \n",
       "25%       26.820000    375.000000  \n",
       "50%       27.020000    744.000000  \n",
       "75%       27.060000   1203.000000  \n",
       "max       27.150000   5183.000000  "
      ]
     },
     "execution_count": 4,
     "metadata": {},
     "output_type": "execute_result"
    }
   ],
   "source": [
    "raw_data.describe()"
   ]
  },
  {
   "cell_type": "code",
   "execution_count": 5,
   "metadata": {},
   "outputs": [
    {
     "data": {
      "text/plain": [
       "updateCount    0\n",
       "lastprice      0\n",
       "volume         0\n",
       "bidsize        0\n",
       "bid            0\n",
       "ask            0\n",
       "asksize        0\n",
       "dtype: int64"
      ]
     },
     "execution_count": 5,
     "metadata": {},
     "output_type": "execute_result"
    }
   ],
   "source": [
    "# check missing value\n",
    "raw_data.isna().sum() # No missing value"
   ]
  },
  {
   "cell_type": "markdown",
   "metadata": {},
   "source": [
    "## Q1\n",
    "1. How many times did the bid-ask spread (defined as the ask price less the bid price) widen in this dataset? What proportion of those times did it widen on both sides (bid decreased and ask increased)? What proportion of those times did it widen on one side (bid decreased xor ask increased)? How many times did the bid-ask spread tighten? We define market size as (bidsize + asksize)/2. Report the distribution of market size."
   ]
  },
  {
   "cell_type": "code",
   "execution_count": 6,
   "metadata": {},
   "outputs": [],
   "source": [
    "mdLog = raw_data"
   ]
  },
  {
   "cell_type": "code",
   "execution_count": 7,
   "metadata": {},
   "outputs": [],
   "source": [
    "mdLog = mdLog.assign(spread=mdLog.ask-mdLog.bid)\n",
    "mdLog = mdLog.assign(sprdmove=mdLog.spread.diff())\n",
    "mdLog = mdLog.assign(bidmove=mdLog.bid.diff())\n",
    "mdLog = mdLog.assign(askmove=mdLog.ask.diff())\n",
    "mdLog = mdLog.assign(mktsz=(mdLog.asksize+mdLog.bidsize)/2)"
   ]
  },
  {
   "cell_type": "code",
   "execution_count": 8,
   "metadata": {},
   "outputs": [
    {
     "name": "stdout",
     "output_type": "stream",
     "text": [
      "the bid-ask spread widened 714 times in this dataset\n"
     ]
    }
   ],
   "source": [
    "sprd_widen_times=(mdLog.sprdmove>0).sum()\n",
    "print(\"the bid-ask spread widened {} times in this dataset\".format(sprd_widen_times))"
   ]
  },
  {
   "cell_type": "code",
   "execution_count": 9,
   "metadata": {},
   "outputs": [
    {
     "name": "stdout",
     "output_type": "stream",
     "text": [
      "the bid-ask spread widened on both sides 1 times in this dataset\n"
     ]
    }
   ],
   "source": [
    "sprd_widen_both_sides_times=(np.logical_and(mdLog.bidmove<0,mdLog.askmove>0)).sum()\n",
    "print(\"the bid-ask spread widened on both sides {} times in this dataset\".format(sprd_widen_both_sides_times))"
   ]
  },
  {
   "cell_type": "code",
   "execution_count": 10,
   "metadata": {},
   "outputs": [
    {
     "name": "stdout",
     "output_type": "stream",
     "text": [
      "the bid-ask spread widened on one side 1334 times in this dataset\n"
     ]
    }
   ],
   "source": [
    "# If we regard (bid decreased while ask decreased) as True\n",
    "sprd_widen_one_side_times=(np.logical_xor(mdLog.bidmove<0,mdLog.askmove>0)).sum()\n",
    "print(\"the bid-ask spread widened on one side {} times in this dataset\".format(sprd_widen_one_side_times))"
   ]
  },
  {
   "cell_type": "code",
   "execution_count": 11,
   "metadata": {},
   "outputs": [
    {
     "name": "stdout",
     "output_type": "stream",
     "text": [
      "the bid-ask spread tightened 716 times in this dataset\n"
     ]
    }
   ],
   "source": [
    "sprd_tighten_times=(mdLog.sprdmove<0).sum()\n",
    "print(\"the bid-ask spread tightened {} times in this dataset\".format(sprd_tighten_times))"
   ]
  },
  {
   "cell_type": "code",
   "execution_count": 12,
   "metadata": {},
   "outputs": [
    {
     "data": {
      "text/plain": [
       "count    50234.000000\n",
       "mean       879.808576\n",
       "std        550.284604\n",
       "min         10.000000\n",
       "25%        523.000000\n",
       "50%        726.500000\n",
       "75%       1062.000000\n",
       "max       4548.000000\n",
       "Name: mktsz, dtype: float64"
      ]
     },
     "execution_count": 12,
     "metadata": {},
     "output_type": "execute_result"
    }
   ],
   "source": [
    "mdLog.mktsz.describe()"
   ]
  },
  {
   "cell_type": "code",
   "execution_count": 13,
   "metadata": {},
   "outputs": [
    {
     "data": {
      "text/plain": [
       "<matplotlib.axes._subplots.AxesSubplot at 0x7ffd656063c8>"
      ]
     },
     "execution_count": 13,
     "metadata": {},
     "output_type": "execute_result"
    },
    {
     "data": {
      "image/png": "[encoded data removed]",
      "text/plain": [
       "<Figure size 432x288 with 1 Axes>"
      ]
     },
     "metadata": {
      "needs_background": "light"
     },
     "output_type": "display_data"
    }
   ],
   "source": [
    "mdLog.mktsz.hist(bins=30)"
   ]
  },
  {
   "cell_type": "markdown",
   "metadata": {},
   "source": [
    "The market size has a mean of 879.9, median 726.5, standard error of 550.3 and is positively skewed, with min 10 and max 4548."
   ]
  },
  {
   "cell_type": "markdown",
   "metadata": {},
   "source": [
    "## Q2\n",
    "2. Focus on instances in which the mid price changes but the bid-ask spread does not. For an increase (decrease) of the mid price, define the new bid (ask) as the aggressive side, and the other as the defensive side. Report the distribution of the market sizes of the defensive side and aggressive side immediately following a change in mid price. Can you intuitively explain your results?"
   ]
  },
  {
   "cell_type": "code",
   "execution_count": 14,
   "metadata": {},
   "outputs": [],
   "source": [
    "mdLog = mdLog.assign(mid=(mdLog.ask+mdLog.bid)/2)\n",
    "mdLog = mdLog.assign(midmove=mdLog.mid.diff())"
   ]
  },
  {
   "cell_type": "code",
   "execution_count": 15,
   "metadata": {},
   "outputs": [],
   "source": [
    "md_Q2 = mdLog[(mdLog.midmove!=0) & (mdLog.sprdmove==0)]"
   ]
  },
  {
   "cell_type": "code",
   "execution_count": 16,
   "metadata": {},
   "outputs": [],
   "source": [
    "md_Q2 = md_Q2.assign(bidIsAggr=(md_Q2.midmove>0))"
   ]
  },
  {
   "cell_type": "code",
   "execution_count": 17,
   "metadata": {},
   "outputs": [],
   "source": [
    "md_Q2 = md_Q2.assign(aggrMktSize=md_Q2.bidsize*md_Q2.bidIsAggr+md_Q2.asksize*(~md_Q2.bidIsAggr))\n",
    "md_Q2 = md_Q2.assign(defsMktSize=md_Q2.bidsize*(~md_Q2.bidIsAggr)+md_Q2.asksize*md_Q2.bidIsAggr)"
   ]
  },
  {
   "cell_type": "code",
   "execution_count": 18,
   "metadata": {},
   "outputs": [
    {
     "data": {
      "text/html": [
       "<div>\n",
       "<style scoped>\n",
       "    .dataframe tbody tr th:only-of-type {\n",
       "        vertical-align: middle;\n",
       "    }\n",
       "\n",
       "    .dataframe tbody tr th {\n",
       "        vertical-align: top;\n",
       "    }\n",
       "\n",
       "    .dataframe thead th {\n",
       "        text-align: right;\n",
       "    }\n",
       "</style>\n",
       "<table border=\"1\" class=\"dataframe\">\n",
       "  <thead>\n",
       "    <tr style=\"text-align: right;\">\n",
       "      <th></th>\n",
       "      <th>updateCount</th>\n",
       "      <th>lastprice</th>\n",
       "      <th>volume</th>\n",
       "      <th>bidsize</th>\n",
       "      <th>bid</th>\n",
       "      <th>ask</th>\n",
       "      <th>asksize</th>\n",
       "      <th>spread</th>\n",
       "      <th>sprdmove</th>\n",
       "      <th>bidmove</th>\n",
       "      <th>askmove</th>\n",
       "      <th>mktsz</th>\n",
       "      <th>mid</th>\n",
       "      <th>midmove</th>\n",
       "      <th>bidIsAggr</th>\n",
       "      <th>aggrMktSize</th>\n",
       "      <th>defsMktSize</th>\n",
       "    </tr>\n",
       "  </thead>\n",
       "  <tbody>\n",
       "    <tr>\n",
       "      <th>15</th>\n",
       "      <td>16</td>\n",
       "      <td>26.80</td>\n",
       "      <td>789</td>\n",
       "      <td>23</td>\n",
       "      <td>26.79</td>\n",
       "      <td>26.81</td>\n",
       "      <td>72</td>\n",
       "      <td>0.02</td>\n",
       "      <td>0.0</td>\n",
       "      <td>0.01</td>\n",
       "      <td>0.01</td>\n",
       "      <td>47.5</td>\n",
       "      <td>26.800</td>\n",
       "      <td>0.01</td>\n",
       "      <td>True</td>\n",
       "      <td>23</td>\n",
       "      <td>72</td>\n",
       "    </tr>\n",
       "    <tr>\n",
       "      <th>361</th>\n",
       "      <td>362</td>\n",
       "      <td>26.75</td>\n",
       "      <td>4742</td>\n",
       "      <td>169</td>\n",
       "      <td>26.74</td>\n",
       "      <td>26.75</td>\n",
       "      <td>116</td>\n",
       "      <td>0.01</td>\n",
       "      <td>0.0</td>\n",
       "      <td>-0.01</td>\n",
       "      <td>-0.01</td>\n",
       "      <td>142.5</td>\n",
       "      <td>26.745</td>\n",
       "      <td>-0.01</td>\n",
       "      <td>False</td>\n",
       "      <td>116</td>\n",
       "      <td>169</td>\n",
       "    </tr>\n",
       "    <tr>\n",
       "      <th>390</th>\n",
       "      <td>391</td>\n",
       "      <td>26.75</td>\n",
       "      <td>5307</td>\n",
       "      <td>199</td>\n",
       "      <td>26.75</td>\n",
       "      <td>26.76</td>\n",
       "      <td>393</td>\n",
       "      <td>0.01</td>\n",
       "      <td>0.0</td>\n",
       "      <td>0.01</td>\n",
       "      <td>0.01</td>\n",
       "      <td>296.0</td>\n",
       "      <td>26.755</td>\n",
       "      <td>0.01</td>\n",
       "      <td>True</td>\n",
       "      <td>199</td>\n",
       "      <td>393</td>\n",
       "    </tr>\n",
       "    <tr>\n",
       "      <th>400</th>\n",
       "      <td>401</td>\n",
       "      <td>26.75</td>\n",
       "      <td>5442</td>\n",
       "      <td>491</td>\n",
       "      <td>26.74</td>\n",
       "      <td>26.75</td>\n",
       "      <td>49</td>\n",
       "      <td>0.01</td>\n",
       "      <td>0.0</td>\n",
       "      <td>-0.01</td>\n",
       "      <td>-0.01</td>\n",
       "      <td>270.0</td>\n",
       "      <td>26.745</td>\n",
       "      <td>-0.01</td>\n",
       "      <td>False</td>\n",
       "      <td>49</td>\n",
       "      <td>491</td>\n",
       "    </tr>\n",
       "    <tr>\n",
       "      <th>414</th>\n",
       "      <td>415</td>\n",
       "      <td>26.75</td>\n",
       "      <td>5561</td>\n",
       "      <td>186</td>\n",
       "      <td>26.75</td>\n",
       "      <td>26.76</td>\n",
       "      <td>433</td>\n",
       "      <td>0.01</td>\n",
       "      <td>0.0</td>\n",
       "      <td>0.01</td>\n",
       "      <td>0.01</td>\n",
       "      <td>309.5</td>\n",
       "      <td>26.755</td>\n",
       "      <td>0.01</td>\n",
       "      <td>True</td>\n",
       "      <td>186</td>\n",
       "      <td>433</td>\n",
       "    </tr>\n",
       "  </tbody>\n",
       "</table>\n",
       "</div>"
      ],
      "text/plain": [
       "     updateCount  lastprice  volume  bidsize    bid    ask  asksize  spread  \\\n",
       "15            16      26.80     789       23  26.79  26.81       72    0.02   \n",
       "361          362      26.75    4742      169  26.74  26.75      116    0.01   \n",
       "390          391      26.75    5307      199  26.75  26.76      393    0.01   \n",
       "400          401      26.75    5442      491  26.74  26.75       49    0.01   \n",
       "414          415      26.75    5561      186  26.75  26.76      433    0.01   \n",
       "\n",
       "     sprdmove  bidmove  askmove  mktsz     mid  midmove  bidIsAggr  \\\n",
       "15        0.0     0.01     0.01   47.5  26.800     0.01       True   \n",
       "361       0.0    -0.01    -0.01  142.5  26.745    -0.01      False   \n",
       "390       0.0     0.01     0.01  296.0  26.755     0.01       True   \n",
       "400       0.0    -0.01    -0.01  270.0  26.745    -0.01      False   \n",
       "414       0.0     0.01     0.01  309.5  26.755     0.01       True   \n",
       "\n",
       "     aggrMktSize  defsMktSize  \n",
       "15            23           72  \n",
       "361          116          169  \n",
       "390          199          393  \n",
       "400           49          491  \n",
       "414          186          433  "
      ]
     },
     "execution_count": 18,
     "metadata": {},
     "output_type": "execute_result"
    }
   ],
   "source": [
    "md_Q2.head()"
   ]
  },
  {
   "cell_type": "code",
   "execution_count": 19,
   "metadata": {},
   "outputs": [
    {
     "data": {
      "text/plain": [
       "count    140.000000\n",
       "mean     123.135714\n",
       "std      174.904381\n",
       "min        1.000000\n",
       "25%       19.750000\n",
       "50%       54.000000\n",
       "75%      145.750000\n",
       "max      909.000000\n",
       "Name: aggrMktSize, dtype: float64"
      ]
     },
     "execution_count": 19,
     "metadata": {},
     "output_type": "execute_result"
    }
   ],
   "source": [
    "md_Q2.aggrMktSize.describe()"
   ]
  },
  {
   "cell_type": "code",
   "execution_count": 20,
   "metadata": {},
   "outputs": [
    {
     "data": {
      "text/plain": [
       "<matplotlib.axes._subplots.AxesSubplot at 0x7ffd656fc2e8>"
      ]
     },
     "execution_count": 20,
     "metadata": {},
     "output_type": "execute_result"
    },
    {
     "data": {
      "image/png": "[encoded data removed]",
      "text/plain": [
       "<Figure size 432x288 with 1 Axes>"
      ]
     },
     "metadata": {
      "needs_background": "light"
     },
     "output_type": "display_data"
    }
   ],
   "source": [
    "md_Q2.aggrMktSize.hist()"
   ]
  },
  {
   "cell_type": "code",
   "execution_count": 21,
   "metadata": {},
   "outputs": [
    {
     "data": {
      "text/plain": [
       "<matplotlib.axes._subplots.AxesSubplot at 0x7ffd656ad668>"
      ]
     },
     "execution_count": 21,
     "metadata": {},
     "output_type": "execute_result"
    },
    {
     "data": {
      "image/png": "[encoded data removed]",
      "text/plain": [
       "<Figure size 432x288 with 1 Axes>"
      ]
     },
     "metadata": {
      "needs_background": "light"
     },
     "output_type": "display_data"
    }
   ],
   "source": [
    "md_Q2.defsMktSize.hist()"
   ]
  },
  {
   "cell_type": "code",
   "execution_count": 22,
   "metadata": {},
   "outputs": [
    {
     "data": {
      "text/plain": [
       "count     140.000000\n",
       "mean     1042.642857\n",
       "std       608.647186\n",
       "min        72.000000\n",
       "25%       655.000000\n",
       "50%       895.000000\n",
       "75%      1335.750000\n",
       "max      3461.000000\n",
       "Name: defsMktSize, dtype: float64"
      ]
     },
     "execution_count": 22,
     "metadata": {},
     "output_type": "execute_result"
    }
   ],
   "source": [
    "md_Q2.defsMktSize.describe()"
   ]
  },
  {
   "cell_type": "markdown",
   "metadata": {},
   "source": [
    "The aggressive market size is on average 123.14 and very concentrated. The average is much smaller than *market size*.\n",
    "\n",
    "The defensive market size is on average 1042.64 and more spread out. The average is much larger than *market size*.\n",
    "\n",
    "The intuitive reasoning: when the bid and ask shift, typically few new orders are built on the aggressive side, while the defensive side are hit into the deeper book. So the aggressive market size tends to be small and the defensive market size tends to be large."
   ]
  },
  {
   "cell_type": "markdown",
   "metadata": {},
   "source": [
    "## Q3\n",
    "3. If, from one update to the next, volume increases from 100 to 150, we know 50 was traded between the two updates. Many trades of varying size at various prices could have happened between the two updates; we only know that the most recent trade happened at the lastprice. Come up with a realistic volume allocation method that allocates the traded volume to price levels. Justify the method and append your allocation to mdLog.csv."
   ]
  },
  {
   "cell_type": "markdown",
   "metadata": {},
   "source": [
    "Because cancellation and fill might happen many times between updates, the possibility is infinite and the trade allocation can only be inferred. I'm taking an simple way to allocate."
   ]
  },
  {
   "cell_type": "code",
   "execution_count": 23,
   "metadata": {},
   "outputs": [],
   "source": [
    "mdLog = mdLog.assign(trdVolume=mdLog.volume.diff())\n",
    "mdLog = mdLog.assign(bidszchg=mdLog.bidsize.diff())\n",
    "mdLog = mdLog.assign(askszchg=mdLog.asksize.diff())"
   ]
  },
  {
   "cell_type": "code",
   "execution_count": 24,
   "metadata": {},
   "outputs": [
    {
     "data": {
      "text/plain": [
       "count    50233.000000\n",
       "mean        11.685585\n",
       "std         55.593706\n",
       "min          0.000000\n",
       "25%          0.000000\n",
       "50%          0.000000\n",
       "75%          2.000000\n",
       "max       2451.000000\n",
       "Name: trdVolume, dtype: float64"
      ]
     },
     "execution_count": 24,
     "metadata": {},
     "output_type": "execute_result"
    }
   ],
   "source": [
    "mdLog.trdVolume.describe()"
   ]
  },
  {
   "cell_type": "code",
   "execution_count": 25,
   "metadata": {},
   "outputs": [],
   "source": [
    "mdLog = mdLog.assign(closer2lastbid=abs(mdLog.lastprice-mdLog.bid+mdLog.bidmove)<abs(mdLog.lastprice-mdLog.ask+mdLog.askmove))"
   ]
  },
  {
   "cell_type": "code",
   "execution_count": 26,
   "metadata": {},
   "outputs": [],
   "source": [
    "mdLog = mdLog.assign(bidBackawayQty=mdLog.bidsize*(mdLog.bidmove<0) + mdLog.bidszchg*(mdLog.bidmove==0))\n",
    "mdLog = mdLog.assign(askBackawayQty=mdLog.asksize*(mdLog.askmove>0) + mdLog.askszchg*(mdLog.askmove==0))"
   ]
  },
  {
   "cell_type": "code",
   "execution_count": 43,
   "metadata": {},
   "outputs": [],
   "source": [
    "def allocateTrade(x):\n",
    "    minTrdQty=1\n",
    "    lastbid=x.bid-x.bidmove\n",
    "    lastask=x.ask-x.askmove\n",
    "    if x.trdVolume==0:\n",
    "        return {}\n",
    "    elif x.closer2lastbid:      \n",
    "        if x.lastprice==lastbid:\n",
    "                return {lastbid:x.trdVolume}\n",
    "        elif x.lastprice!=lastbid:\n",
    "            if x.bidBackawayQty>x.trdVolume:\n",
    "                return {x.lastprice:minTrdQty,lastbid:x.trdVolume-minTrdQty}\n",
    "            elif x.bidBackawayQty<=x.trdVolume:\n",
    "                return {x.lastprice:x.trdVolume-x.bidBackawayQty,lastbid:x.bidBackawayQty}\n",
    "    elif not x.closer2lastbid:  \n",
    "        if x.lastprice==lastask:\n",
    "                return {lastask:x.trdVolume}\n",
    "        elif x.lastprice!=lastask:\n",
    "            if x.askBackawayQty>x.trdVolume:\n",
    "                return {x.lastprice:minTrdQty,lastask:x.trdVolume-minTrdQty}\n",
    "            elif x.askBackawayQty<=x.trdVolume:\n",
    "                return {x.lastprice:x.trdVolume-x.askBackawayQty,lastask:x.askBackawayQty}\n",
    "        "
   ]
  },
  {
   "cell_type": "code",
   "execution_count": 44,
   "metadata": {},
   "outputs": [],
   "source": [
    "mdLog=mdLog.assign(trdAlloc=mdLog.apply(allocateTrade,axis=1))"
   ]
  },
  {
   "cell_type": "code",
   "execution_count": 45,
   "metadata": {},
   "outputs": [
    {
     "data": {
      "text/html": [
       "<div>\n",
       "<style scoped>\n",
       "    .dataframe tbody tr th:only-of-type {\n",
       "        vertical-align: middle;\n",
       "    }\n",
       "\n",
       "    .dataframe tbody tr th {\n",
       "        vertical-align: top;\n",
       "    }\n",
       "\n",
       "    .dataframe thead th {\n",
       "        text-align: right;\n",
       "    }\n",
       "</style>\n",
       "<table border=\"1\" class=\"dataframe\">\n",
       "  <thead>\n",
       "    <tr style=\"text-align: right;\">\n",
       "      <th></th>\n",
       "      <th>updateCount</th>\n",
       "      <th>lastprice</th>\n",
       "      <th>volume</th>\n",
       "      <th>bidsize</th>\n",
       "      <th>bid</th>\n",
       "      <th>ask</th>\n",
       "      <th>asksize</th>\n",
       "      <th>spread</th>\n",
       "      <th>sprdmove</th>\n",
       "      <th>bidmove</th>\n",
       "      <th>...</th>\n",
       "      <th>mktsz</th>\n",
       "      <th>mid</th>\n",
       "      <th>midmove</th>\n",
       "      <th>trdVolume</th>\n",
       "      <th>bidszchg</th>\n",
       "      <th>askszchg</th>\n",
       "      <th>closer2lastbid</th>\n",
       "      <th>bidBackawayQty</th>\n",
       "      <th>askBackawayQty</th>\n",
       "      <th>trdAlloc</th>\n",
       "    </tr>\n",
       "  </thead>\n",
       "  <tbody>\n",
       "    <tr>\n",
       "      <th>0</th>\n",
       "      <td>1</td>\n",
       "      <td>26.78</td>\n",
       "      <td>303</td>\n",
       "      <td>455</td>\n",
       "      <td>26.77</td>\n",
       "      <td>26.79</td>\n",
       "      <td>1</td>\n",
       "      <td>0.02</td>\n",
       "      <td>NaN</td>\n",
       "      <td>NaN</td>\n",
       "      <td>...</td>\n",
       "      <td>228.0</td>\n",
       "      <td>26.780</td>\n",
       "      <td>NaN</td>\n",
       "      <td>NaN</td>\n",
       "      <td>NaN</td>\n",
       "      <td>NaN</td>\n",
       "      <td>False</td>\n",
       "      <td>NaN</td>\n",
       "      <td>NaN</td>\n",
       "      <td>None</td>\n",
       "    </tr>\n",
       "    <tr>\n",
       "      <th>1</th>\n",
       "      <td>2</td>\n",
       "      <td>26.78</td>\n",
       "      <td>303</td>\n",
       "      <td>455</td>\n",
       "      <td>26.77</td>\n",
       "      <td>26.79</td>\n",
       "      <td>1</td>\n",
       "      <td>0.02</td>\n",
       "      <td>0.000000e+00</td>\n",
       "      <td>0.00</td>\n",
       "      <td>...</td>\n",
       "      <td>228.0</td>\n",
       "      <td>26.780</td>\n",
       "      <td>0.000</td>\n",
       "      <td>0.0</td>\n",
       "      <td>0.0</td>\n",
       "      <td>0.0</td>\n",
       "      <td>False</td>\n",
       "      <td>0.0</td>\n",
       "      <td>0.0</td>\n",
       "      <td>{}</td>\n",
       "    </tr>\n",
       "    <tr>\n",
       "      <th>2</th>\n",
       "      <td>3</td>\n",
       "      <td>26.77</td>\n",
       "      <td>361</td>\n",
       "      <td>518</td>\n",
       "      <td>26.77</td>\n",
       "      <td>26.78</td>\n",
       "      <td>1</td>\n",
       "      <td>0.01</td>\n",
       "      <td>-1.000000e-02</td>\n",
       "      <td>0.00</td>\n",
       "      <td>...</td>\n",
       "      <td>259.5</td>\n",
       "      <td>26.775</td>\n",
       "      <td>-0.005</td>\n",
       "      <td>58.0</td>\n",
       "      <td>63.0</td>\n",
       "      <td>0.0</td>\n",
       "      <td>True</td>\n",
       "      <td>63.0</td>\n",
       "      <td>0.0</td>\n",
       "      <td>{26.77: 58.0}</td>\n",
       "    </tr>\n",
       "    <tr>\n",
       "      <th>3</th>\n",
       "      <td>4</td>\n",
       "      <td>26.79</td>\n",
       "      <td>374</td>\n",
       "      <td>42</td>\n",
       "      <td>26.78</td>\n",
       "      <td>26.79</td>\n",
       "      <td>44</td>\n",
       "      <td>0.01</td>\n",
       "      <td>-3.552714e-15</td>\n",
       "      <td>0.01</td>\n",
       "      <td>...</td>\n",
       "      <td>43.0</td>\n",
       "      <td>26.785</td>\n",
       "      <td>0.010</td>\n",
       "      <td>13.0</td>\n",
       "      <td>-476.0</td>\n",
       "      <td>43.0</td>\n",
       "      <td>False</td>\n",
       "      <td>0.0</td>\n",
       "      <td>44.0</td>\n",
       "      <td>{26.79: 1, 26.78: 12.0}</td>\n",
       "    </tr>\n",
       "    <tr>\n",
       "      <th>4</th>\n",
       "      <td>5</td>\n",
       "      <td>26.79</td>\n",
       "      <td>413</td>\n",
       "      <td>163</td>\n",
       "      <td>26.77</td>\n",
       "      <td>26.80</td>\n",
       "      <td>2</td>\n",
       "      <td>0.03</td>\n",
       "      <td>2.000000e-02</td>\n",
       "      <td>-0.01</td>\n",
       "      <td>...</td>\n",
       "      <td>82.5</td>\n",
       "      <td>26.785</td>\n",
       "      <td>0.000</td>\n",
       "      <td>39.0</td>\n",
       "      <td>121.0</td>\n",
       "      <td>-42.0</td>\n",
       "      <td>False</td>\n",
       "      <td>163.0</td>\n",
       "      <td>2.0</td>\n",
       "      <td>{26.79: 39.0}</td>\n",
       "    </tr>\n",
       "  </tbody>\n",
       "</table>\n",
       "<p>5 rows × 21 columns</p>\n",
       "</div>"
      ],
      "text/plain": [
       "   updateCount  lastprice  volume  bidsize    bid    ask  asksize  spread  \\\n",
       "0            1      26.78     303      455  26.77  26.79        1    0.02   \n",
       "1            2      26.78     303      455  26.77  26.79        1    0.02   \n",
       "2            3      26.77     361      518  26.77  26.78        1    0.01   \n",
       "3            4      26.79     374       42  26.78  26.79       44    0.01   \n",
       "4            5      26.79     413      163  26.77  26.80        2    0.03   \n",
       "\n",
       "       sprdmove  bidmove  ...  mktsz     mid  midmove  trdVolume  bidszchg  \\\n",
       "0           NaN      NaN  ...  228.0  26.780      NaN        NaN       NaN   \n",
       "1  0.000000e+00     0.00  ...  228.0  26.780    0.000        0.0       0.0   \n",
       "2 -1.000000e-02     0.00  ...  259.5  26.775   -0.005       58.0      63.0   \n",
       "3 -3.552714e-15     0.01  ...   43.0  26.785    0.010       13.0    -476.0   \n",
       "4  2.000000e-02    -0.01  ...   82.5  26.785    0.000       39.0     121.0   \n",
       "\n",
       "   askszchg  closer2lastbid  bidBackawayQty  askBackawayQty  \\\n",
       "0       NaN           False             NaN             NaN   \n",
       "1       0.0           False             0.0             0.0   \n",
       "2       0.0            True            63.0             0.0   \n",
       "3      43.0           False             0.0            44.0   \n",
       "4     -42.0           False           163.0             2.0   \n",
       "\n",
       "                  trdAlloc  \n",
       "0                     None  \n",
       "1                       {}  \n",
       "2            {26.77: 58.0}  \n",
       "3  {26.79: 1, 26.78: 12.0}  \n",
       "4            {26.79: 39.0}  \n",
       "\n",
       "[5 rows x 21 columns]"
      ]
     },
     "execution_count": 45,
     "metadata": {},
     "output_type": "execute_result"
    }
   ],
   "source": [
    "mdLog.head()"
   ]
  },
  {
   "cell_type": "markdown",
   "metadata": {},
   "source": [
    "## Q4\n",
    "4. We define sizeDelta as the size added or cancelled on a level from one update to the next, net of any traded volume. For example, on update 1, the bidsize was 100. On update 2, the bid price is unchanged and the bidsize is now 70. Suppose, from part 3, that we believe a total of size 20 was traded at the bid. Then we have sizeDeltaAtBid = -10, as in orders totaling size 10 were canceled between update 1 and update 2 on the bid. Note that sizeDelta is only defined for price levels that are unchanged from the previous update.\n",
    "\n",
    "Add to mdLog.csv two additional columns: sizeDeltaAtBid and sizeDeltaAtAsk. Report the distribution of these two variables."
   ]
  },
  {
   "cell_type": "code",
   "execution_count": 54,
   "metadata": {},
   "outputs": [],
   "source": [
    "def calcSizeDeltaAtBid(x):\n",
    "    if x.bidmove == 0:\n",
    "        if x.bid in x.trdAlloc.keys():\n",
    "            trd_alloc = x.trdAlloc[x.bid]\n",
    "            return x.bidszchg+trd_alloc\n",
    "        else:\n",
    "            return x.bidszchg\n",
    "    else:\n",
    "        return None"
   ]
  },
  {
   "cell_type": "code",
   "execution_count": 62,
   "metadata": {},
   "outputs": [],
   "source": [
    "def calcSizeDeltaAtAsk(x):\n",
    "    if x.askmove == 0:\n",
    "        if x.ask in x.trdAlloc.keys():\n",
    "            trd_alloc = x.trdAlloc[x.ask]\n",
    "            return x.askszchg+trd_alloc\n",
    "        else:\n",
    "            return x.askszchg\n",
    "    else:\n",
    "        return None"
   ]
  },
  {
   "cell_type": "code",
   "execution_count": 60,
   "metadata": {},
   "outputs": [],
   "source": [
    "mdLog = mdLog.assign(sizeDeltaAtBid=mdLog.apply(calcSizeDeltaAtBid,axis=1))"
   ]
  },
  {
   "cell_type": "code",
   "execution_count": 63,
   "metadata": {},
   "outputs": [],
   "source": [
    "mdLog = mdLog.assign(sizeDeltaAtAsk=mdLog.apply(calcSizeDeltaAtAsk,axis=1))"
   ]
  },
  {
   "cell_type": "code",
   "execution_count": 65,
   "metadata": {},
   "outputs": [
    {
     "data": {
      "text/plain": [
       "count    48903.000000\n",
       "mean         4.822383\n",
       "std         69.786535\n",
       "min      -4794.000000\n",
       "25%          0.000000\n",
       "50%          0.000000\n",
       "75%          1.000000\n",
       "max       1598.000000\n",
       "Name: sizeDeltaAtBid, dtype: float64"
      ]
     },
     "execution_count": 65,
     "metadata": {},
     "output_type": "execute_result"
    }
   ],
   "source": [
    "mdLog.sizeDeltaAtBid.describe()"
   ]
  },
  {
   "cell_type": "code",
   "execution_count": 71,
   "metadata": {},
   "outputs": [
    {
     "data": {
      "text/plain": [
       "<matplotlib.axes._subplots.AxesSubplot at 0x7ffd4fc77748>"
      ]
     },
     "execution_count": 71,
     "metadata": {},
     "output_type": "execute_result"
    },
    {
     "data": {
      "image/png": "[encoded data removed]",
      "text/plain": [
       "<Figure size 432x288 with 1 Axes>"
      ]
     },
     "metadata": {
      "needs_background": "light"
     },
     "output_type": "display_data"
    }
   ],
   "source": [
    "mdLog.sizeDeltaAtBid[abs(mdLog.sizeDeltaAtBid)<1000].hist(bins=20)"
   ]
  },
  {
   "cell_type": "code",
   "execution_count": 69,
   "metadata": {},
   "outputs": [
    {
     "data": {
      "text/plain": [
       "count    48888.000000\n",
       "mean         4.249366\n",
       "std         63.428201\n",
       "min      -2830.000000\n",
       "25%          0.000000\n",
       "50%          0.000000\n",
       "75%          1.000000\n",
       "max       1098.000000\n",
       "Name: sizeDeltaAtAsk, dtype: float64"
      ]
     },
     "execution_count": 69,
     "metadata": {},
     "output_type": "execute_result"
    }
   ],
   "source": [
    "mdLog.sizeDeltaAtAsk.describe()"
   ]
  },
  {
   "cell_type": "code",
   "execution_count": 72,
   "metadata": {},
   "outputs": [
    {
     "data": {
      "text/plain": [
       "<matplotlib.axes._subplots.AxesSubplot at 0x7ffd53fdbba8>"
      ]
     },
     "execution_count": 72,
     "metadata": {},
     "output_type": "execute_result"
    },
    {
     "data": {
      "image/png": "[encoded data removed]",
      "text/plain": [
       "<Figure size 432x288 with 1 Axes>"
      ]
     },
     "metadata": {
      "needs_background": "light"
     },
     "output_type": "display_data"
    }
   ],
   "source": [
    "mdLog.sizeDeltaAtAsk[abs(mdLog.sizeDeltaAtAsk)<1000].hist(bins=20)"
   ]
  },
  {
   "cell_type": "markdown",
   "metadata": {},
   "source": [
    "sizeDeltaAtBid and sizeDeltaAtAsk are mainly concentrated on around 0, slight positive on average. They have very thin tail, which means large moves are rare."
   ]
  },
  {
   "cell_type": "markdown",
   "metadata": {},
   "source": [
    "## Q5\n",
    "5. Now we will focus on the aggressive side. Assume the size on the aggressive side we see immediately after a price change is from a single limit order, which we call the top order. We wish to track the performance of top orders. Assume cancellations always happen from the back of the queue and the order may be partially cancelled.\n",
    "\n",
    "Note that all top orders are inserted at the BBO (Best Bid Offer), as in a buy (sell) top order is always inserted at the best bid (ask). However, not all top orders spend their entire lifespan on the BBO. Report the total number of top orders, the number that do not spend their entire lifespan on the BBO, and the number that do. Out of those that do spend their entire lifespan on the BBO, how many are filled for their original size?"
   ]
  },
  {
   "cell_type": "code",
   "execution_count": 58,
   "metadata": {},
   "outputs": [
    {
     "data": {
      "text/html": [
       "<div>\n",
       "<style scoped>\n",
       "    .dataframe tbody tr th:only-of-type {\n",
       "        vertical-align: middle;\n",
       "    }\n",
       "\n",
       "    .dataframe tbody tr th {\n",
       "        vertical-align: top;\n",
       "    }\n",
       "\n",
       "    .dataframe thead th {\n",
       "        text-align: right;\n",
       "    }\n",
       "</style>\n",
       "<table border=\"1\" class=\"dataframe\">\n",
       "  <thead>\n",
       "    <tr style=\"text-align: right;\">\n",
       "      <th></th>\n",
       "      <th>updateCount</th>\n",
       "      <th>lastprice</th>\n",
       "      <th>volume</th>\n",
       "      <th>bidsize</th>\n",
       "      <th>bid</th>\n",
       "      <th>ask</th>\n",
       "      <th>asksize</th>\n",
       "      <th>spread</th>\n",
       "      <th>sprdmove</th>\n",
       "      <th>bidmove</th>\n",
       "      <th>askmove</th>\n",
       "      <th>mktsz</th>\n",
       "      <th>mid</th>\n",
       "      <th>midmove</th>\n",
       "      <th>bidIsAggr</th>\n",
       "      <th>aggrMktSize</th>\n",
       "      <th>defsMktSize</th>\n",
       "    </tr>\n",
       "  </thead>\n",
       "  <tbody>\n",
       "    <tr>\n",
       "      <th>15</th>\n",
       "      <td>16</td>\n",
       "      <td>26.80</td>\n",
       "      <td>789</td>\n",
       "      <td>23</td>\n",
       "      <td>26.79</td>\n",
       "      <td>26.81</td>\n",
       "      <td>72</td>\n",
       "      <td>0.02</td>\n",
       "      <td>0.0</td>\n",
       "      <td>0.01</td>\n",
       "      <td>0.01</td>\n",
       "      <td>47.5</td>\n",
       "      <td>26.800</td>\n",
       "      <td>0.01</td>\n",
       "      <td>True</td>\n",
       "      <td>23</td>\n",
       "      <td>72</td>\n",
       "    </tr>\n",
       "    <tr>\n",
       "      <th>361</th>\n",
       "      <td>362</td>\n",
       "      <td>26.75</td>\n",
       "      <td>4742</td>\n",
       "      <td>169</td>\n",
       "      <td>26.74</td>\n",
       "      <td>26.75</td>\n",
       "      <td>116</td>\n",
       "      <td>0.01</td>\n",
       "      <td>0.0</td>\n",
       "      <td>-0.01</td>\n",
       "      <td>-0.01</td>\n",
       "      <td>142.5</td>\n",
       "      <td>26.745</td>\n",
       "      <td>-0.01</td>\n",
       "      <td>False</td>\n",
       "      <td>116</td>\n",
       "      <td>169</td>\n",
       "    </tr>\n",
       "    <tr>\n",
       "      <th>390</th>\n",
       "      <td>391</td>\n",
       "      <td>26.75</td>\n",
       "      <td>5307</td>\n",
       "      <td>199</td>\n",
       "      <td>26.75</td>\n",
       "      <td>26.76</td>\n",
       "      <td>393</td>\n",
       "      <td>0.01</td>\n",
       "      <td>0.0</td>\n",
       "      <td>0.01</td>\n",
       "      <td>0.01</td>\n",
       "      <td>296.0</td>\n",
       "      <td>26.755</td>\n",
       "      <td>0.01</td>\n",
       "      <td>True</td>\n",
       "      <td>199</td>\n",
       "      <td>393</td>\n",
       "    </tr>\n",
       "    <tr>\n",
       "      <th>400</th>\n",
       "      <td>401</td>\n",
       "      <td>26.75</td>\n",
       "      <td>5442</td>\n",
       "      <td>491</td>\n",
       "      <td>26.74</td>\n",
       "      <td>26.75</td>\n",
       "      <td>49</td>\n",
       "      <td>0.01</td>\n",
       "      <td>0.0</td>\n",
       "      <td>-0.01</td>\n",
       "      <td>-0.01</td>\n",
       "      <td>270.0</td>\n",
       "      <td>26.745</td>\n",
       "      <td>-0.01</td>\n",
       "      <td>False</td>\n",
       "      <td>49</td>\n",
       "      <td>491</td>\n",
       "    </tr>\n",
       "    <tr>\n",
       "      <th>414</th>\n",
       "      <td>415</td>\n",
       "      <td>26.75</td>\n",
       "      <td>5561</td>\n",
       "      <td>186</td>\n",
       "      <td>26.75</td>\n",
       "      <td>26.76</td>\n",
       "      <td>433</td>\n",
       "      <td>0.01</td>\n",
       "      <td>0.0</td>\n",
       "      <td>0.01</td>\n",
       "      <td>0.01</td>\n",
       "      <td>309.5</td>\n",
       "      <td>26.755</td>\n",
       "      <td>0.01</td>\n",
       "      <td>True</td>\n",
       "      <td>186</td>\n",
       "      <td>433</td>\n",
       "    </tr>\n",
       "  </tbody>\n",
       "</table>\n",
       "</div>"
      ],
      "text/plain": [
       "     updateCount  lastprice  volume  bidsize    bid    ask  asksize  spread  \\\n",
       "15            16      26.80     789       23  26.79  26.81       72    0.02   \n",
       "361          362      26.75    4742      169  26.74  26.75      116    0.01   \n",
       "390          391      26.75    5307      199  26.75  26.76      393    0.01   \n",
       "400          401      26.75    5442      491  26.74  26.75       49    0.01   \n",
       "414          415      26.75    5561      186  26.75  26.76      433    0.01   \n",
       "\n",
       "     sprdmove  bidmove  askmove  mktsz     mid  midmove  bidIsAggr  \\\n",
       "15        0.0     0.01     0.01   47.5  26.800     0.01       True   \n",
       "361       0.0    -0.01    -0.01  142.5  26.745    -0.01      False   \n",
       "390       0.0     0.01     0.01  296.0  26.755     0.01       True   \n",
       "400       0.0    -0.01    -0.01  270.0  26.745    -0.01      False   \n",
       "414       0.0     0.01     0.01  309.5  26.755     0.01       True   \n",
       "\n",
       "     aggrMktSize  defsMktSize  \n",
       "15            23           72  \n",
       "361          116          169  \n",
       "390          199          393  \n",
       "400           49          491  \n",
       "414          186          433  "
      ]
     },
     "execution_count": 58,
     "metadata": {},
     "output_type": "execute_result"
    }
   ],
   "source": [
    "md_Q2.head()"
   ]
  },
  {
   "cell_type": "markdown",
   "metadata": {},
   "source": [
    "We have defined \"aggressive\" in Q2."
   ]
  },
  {
   "cell_type": "code",
   "execution_count": 75,
   "metadata": {},
   "outputs": [],
   "source": [
    "md_Q2=md_Q2.assign(isTopOrder=True)"
   ]
  },
  {
   "cell_type": "code",
   "execution_count": 77,
   "metadata": {},
   "outputs": [],
   "source": [
    "mdLog = mdLog.merge(md_Q2[[\"updateCount\",\"isTopOrder\",\"bidIsAggr\"]],on='updateCount', how='left')"
   ]
  },
  {
   "cell_type": "code",
   "execution_count": null,
   "metadata": {},
   "outputs": [],
   "source": [
    "# mdLog.Effect\n",
    "for i in range(len(mdLog)):\n",
    "    entry = mdLog.loc[i]\n",
    "    BBOMoved = (entry.bidmove<>0) if entry.bidIsAggr else (entry.askmove<>0)\n",
    "    count=0\n",
    "    CumTopFillQty=0\n",
    "    CumCancelledFillQty=0\n",
    "    TopOrderPx=None\n",
    "    TopOrderQty=None\n",
    "    Done=False\n",
    "    \n",
    "    if BBOMoved and Done:\n",
    "        count+=1\n",
    "    if entry.isTopOrder:\n",
    "        TopOrderPx = entry.bid if entry.bidIsAggr else entry.ask\n",
    "        TopOrderQty = entry.bidsize if entry.bidIsAggr else entry.asksize\n",
    "        CumTopFillQty=0\n",
    "        CumCancelledFillQty=0\n",
    "        Done=False\n",
    "    elif i==0 or (mdLog[\"TopOrderRemain\"][i-1] == None):\n",
    "        pass\n",
    "    else:\n",
    "        trd_alloc = mdLog.trdAlloc[i]\n",
    "        CumTopCancelledQty += max(TopOrderQty-CumTopFillQty-CumTopFillQty-mdLog.bidsize[i],0)\n",
    "        CumTopFillQty += trd_alloc[TopOrderPx] if TopOrderPx in trd_alloc.keys() else 0\n",
    "        if CumTopFillQty+CumTopCancelledQty>=TopOrderQty:\n",
    "            Done = True\n",
    "        \n",
    " "
   ]
  },
  {
   "cell_type": "markdown",
   "metadata": {},
   "source": [
    "## Q6\n",
    "6. We define return as the signed difference between the execution price of an order and the mid price 40 market updates after the time of the final trade. By convention, we normalize these returns by the ticksize, which is 0.01 in this case. Therefore, if a buy order is all traded at 19.20, the bid 40 updates later is 19.20, and the ask 40 updates later is 19.21, then the return is 0.5. Report average returns of top orders that spend their entire lives at the BBO and are completely filled."
   ]
  },
  {
   "cell_type": "markdown",
   "metadata": {},
   "source": [
    "## Q7\n",
    "7. Shift focus to top orders that do not spend their entire lives at the BBO. Report the average returns of these orders. Explicitly state your assumptions regarding your treatment of these orders while they are not at the BBO."
   ]
  },
  {
   "cell_type": "markdown",
   "metadata": {},
   "source": [
    "## Q8\n",
    "8. Focusing on top orders that spend their entire lifespan at the BBO and are completely filled, can you write a model for the return of these orders based on the size of such orders and the sizeDelta variables you see on the second update after the order was inserted? Can you improve your model via other predictors with information taken on or before the second update after the order was inserted?"
   ]
  },
  {
   "cell_type": "markdown",
   "metadata": {},
   "source": [
    "We can run a linear model with the factors.\n",
    "\n",
    "For other potential factors, we can take the book imbalance as one."
   ]
  },
  {
   "cell_type": "markdown",
   "metadata": {},
   "source": [
    "## Q9\n",
    "9. What are the pros and cons of using the above definition of returns as a metric for order attractiveness? What are some (potentially better) alternatives?"
   ]
  },
  {
   "cell_type": "markdown",
   "metadata": {},
   "source": [
    "Pros: it takes into spread gaining if we are passively filled and loss if we aggressively take\n",
    "\n",
    "Cons: similarly, market impact is messed with this measure.\n",
    "\n",
    "If we want to measure the market impact , we can use mid to mid return."
   ]
  },
  {
   "cell_type": "markdown",
   "metadata": {},
   "source": [
    "## Q10\n",
    "10. Any other interesting observations you want to point out? What assumptions in the problems struck you as unrealistic or overly simplistic?"
   ]
  },
  {
   "cell_type": "markdown",
   "metadata": {},
   "source": [
    "The assumption of single limit order of top order may be overly simplistic."
   ]
  },
  {
   "cell_type": "code",
   "execution_count": null,
   "metadata": {},
   "outputs": [],
   "source": []
  }
 ],
 "metadata": {
  "kernelspec": {
   "display_name": "Python 3",
   "language": "python",
   "name": "python3"
  },
  "language_info": {
   "codemirror_mode": {
    "name": "ipython",
    "version": 3
   },
   "file_extension": ".py",
   "mimetype": "text/x-python",
   "name": "python",
   "nbconvert_exporter": "python",
   "pygments_lexer": "ipython3",
   "version": "3.6.10"
  }
 },
 "nbformat": 4,
 "nbformat_minor": 4
}
